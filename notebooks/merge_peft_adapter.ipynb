{
 "cells": [
  {
   "cell_type": "code",
   "execution_count": null,
   "id": "9968fcc2-28a2-4a76-a7c7-e47584b124df",
   "metadata": {},
   "outputs": [],
   "source": [
    "!pip install -q -U accelerate transformers peft"
   ]
  },
  {
   "cell_type": "code",
   "execution_count": null,
   "id": "e37db66b-e3cb-40f3-b9cf-c448ba366117",
   "metadata": {},
   "outputs": [],
   "source": [
    "!git config --global credential.helper store"
   ]
  },
  {
   "cell_type": "code",
   "execution_count": null,
   "id": "3754c550-7101-4ef5-b480-b6f64e78b9c2",
   "metadata": {},
   "outputs": [],
   "source": [
    "from huggingface_hub import notebook_login\n",
    "notebook_login()"
   ]
  },
  {
   "cell_type": "code",
   "execution_count": null,
   "id": "6a28abf3-5761-4d19-970b-f51bdde2536d",
   "metadata": {},
   "outputs": [],
   "source": [
    "# Cell 1: Imports\n",
    "from transformers import AutoModelForCausalLM, AutoTokenizer\n",
    "from peft import PeftModel\n",
    "import torch"
   ]
  },
  {
   "cell_type": "code",
   "execution_count": null,
   "id": "f7227a0c-5ae7-4ce3-b3b0-3cdcae70ebf0",
   "metadata": {},
   "outputs": [],
   "source": [
    "# Cell 2: Parameters (replace the values with your actual paths and preferences)\n",
    "base_model_name_or_path = \"YOUR_BASE_MODEL_PATH_OR_NAME\"\n",
    "peft_model_path = \"YOUR_PEFT_MODEL_PATH\"\n",
    "output_dir = \"YOUR_OUTPUT_DIRECTORY\"\n",
    "device = \"auto\"  # or specify a specific device like \"cuda:0\"\n",
    "push_to_hub = False  # or True if you want to push to the hub"
   ]
  },
  {
   "cell_type": "code",
   "execution_count": null,
   "id": "3c0a1aa9-f86b-4374-99a6-674ea608712c",
   "metadata": {},
   "outputs": [],
   "source": [
    "# Cell 3: Load Base Model\n",
    "print(f\"Loading base model: {base_model_name_or_path}\")\n",
    "if device == 'auto':\n",
    "    device_arg = { 'device_map': 'auto' }\n",
    "else:\n",
    "    device_arg = { 'device_map': { \"\": device} }\n",
    "\n",
    "base_model = AutoModelForCausalLM.from_pretrained(\n",
    "    base_model_name_or_path,\n",
    "    return_dict=True,\n",
    "    torch_dtype=torch.float16,\n",
    "    **device_arg\n",
    ")"
   ]
  },
  {
   "cell_type": "code",
   "execution_count": null,
   "id": "ed076b41-8f2b-4bc6-b79b-a49731802cea",
   "metadata": {},
   "outputs": [],
   "source": [
    "# Cell 4: Load PEFT and Merge\n",
    "print(f\"Loading PEFT: {peft_model_path}\")\n",
    "model = PeftModel.from_pretrained(base_model, peft_model_path, **device_arg)\n",
    "print(f\"Running merge_and_unload\")\n",
    "model = model.merge_and_unload()\n",
    "\n",
    "# Cell 5: Tokenizer and Saving\n",
    "tokenizer = AutoTokenizer.from_pretrained(base_model_name_or_path)\n",
    "\n",
    "if push_to_hub:\n",
    "    print(f\"Saving to hub ...\")\n",
    "    model.push_to_hub(f\"{output_dir}\", use_temp_dir=False)\n",
    "    tokenizer.push_to_hub(f\"{output_dir}\", use_temp_dir=False)\n",
    "else:\n",
    "    model.save_pretrained(f\"{output_dir}\")\n",
    "    tokenizer.save_pretrained(f\"{output_dir}\")\n",
    "    print(f\"Model saved to {output_dir}\")"
   ]
  }
 ],
 "metadata": {
  "kernelspec": {
   "display_name": "Python 3 (ipykernel)",
   "language": "python",
   "name": "python3"
  },
  "language_info": {
   "codemirror_mode": {
    "name": "ipython",
    "version": 3
   },
   "file_extension": ".py",
   "mimetype": "text/x-python",
   "name": "python",
   "nbconvert_exporter": "python",
   "pygments_lexer": "ipython3",
   "version": "3.10.6"
  }
 },
 "nbformat": 4,
 "nbformat_minor": 5
}
